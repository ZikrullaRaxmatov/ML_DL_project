{
 "cells": [
  {
   "cell_type": "markdown",
   "metadata": {},
   "source": [
    "Here are the names of common data augmentation techniques and examples in **Keras** using `ImageDataGenerator`:\n",
    "\n",
    "1. **Rescaling**  \n",
    "   Example: `rescale=1./255`\n",
    "\n",
    "2. **Rotation**  \n",
    "   Example: `rotation_range=40`\n",
    "\n",
    "3. **Width Shift**  \n",
    "   Example: `width_shift_range=0.2`\n",
    "\n",
    "4. **Height Shift**  \n",
    "   Example: `height_shift_range=0.2`\n",
    "\n",
    "5. **Shear Transformation**  \n",
    "   Example: `shear_range=0.2`\n",
    "\n",
    "6. **Zoom**  \n",
    "   Example: `zoom_range=0.2`\n",
    "\n",
    "7. **Horizontal Flip**  \n",
    "   Example: `horizontal_flip=True`\n",
    "\n",
    "8. **Vertical Flip**  \n",
    "   Example: `vertical_flip=True`\n",
    "\n",
    "9. **Brightness Adjustment**  \n",
    "   Example: `brightness_range=[0.8, 1.2]`\n",
    "\n",
    "10. **Channel Shift**  \n",
    "    Example: `channel_shift_range=0.2`\n",
    "\n",
    "11. **Fill Mode** (for handling empty space after transformations)  \n",
    "    Example: `fill_mode='nearest'`\n",
    "\n",
    "These examples can be used with `ImageDataGenerator` in Keras for augmenting your dataset."
   ]
  },
  {
   "cell_type": "code",
   "execution_count": 16,
   "metadata": {},
   "outputs": [],
   "source": [
    "from tensorflow.keras.preprocessing.image import ImageDataGenerator, load_img, img_to_array\n",
    "import numpy as np\n",
    "import os"
   ]
  },
  {
   "cell_type": "code",
   "execution_count": 17,
   "metadata": {},
   "outputs": [],
   "source": [
    "# Generationg images\n",
    "datagen = ImageDataGenerator(\n",
    "    rotation_range = 0.3,\n",
    "    width_shift_range = 0.2,\n",
    "    height_shift_range = 0.2,\n",
    "    shear_range = 0.25,\n",
    "    zoom_range = 0.4,\n",
    "    horizontal_flip = True,\n",
    "    brightness_range = [0.8, 1.2],\n",
    "    channel_shift_range = 0.25,\n",
    "    fill_mode = 'nearest'\n",
    ")"
   ]
  },
  {
   "cell_type": "code",
   "execution_count": 49,
   "metadata": {},
   "outputs": [],
   "source": [
    "# loading images\n",
    "img = load_img('.//datasets/students/zikrulla_rakhmatov/10.jpg', target_size=(500, 500))\n",
    "x = img_to_array(img)\n",
    "x = np.expand_dims(x, axis=0)"
   ]
  },
  {
   "cell_type": "code",
   "execution_count": 50,
   "metadata": {},
   "outputs": [],
   "source": [
    "# saving images to dir\n",
    "save_dir = './datasets/data_arg/'\n",
    "\n",
    "os.makedirs(save_dir, exist_ok=True)\n",
    "\n",
    "i = 0\n",
    "\n",
    "for batch in datagen.flow(x, batch_size=1, save_to_dir=save_dir, save_prefix='aug', save_format='jpeg'):\n",
    "    i += 1\n",
    "    if i > 10:\n",
    "        break"
   ]
  },
  {
   "cell_type": "code",
   "execution_count": null,
   "metadata": {},
   "outputs": [],
   "source": []
  }
 ],
 "metadata": {
  "kernelspec": {
   "display_name": "venv",
   "language": "python",
   "name": "python3"
  },
  "language_info": {
   "codemirror_mode": {
    "name": "ipython",
    "version": 3
   },
   "file_extension": ".py",
   "mimetype": "text/x-python",
   "name": "python",
   "nbconvert_exporter": "python",
   "pygments_lexer": "ipython3",
   "version": "3.12.3"
  }
 },
 "nbformat": 4,
 "nbformat_minor": 2
}
