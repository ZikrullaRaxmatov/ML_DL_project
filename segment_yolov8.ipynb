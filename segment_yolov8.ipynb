{
  "nbformat": 4,
  "nbformat_minor": 0,
  "metadata": {
    "colab": {
      "provenance": [],
      "gpuType": "T4",
      "authorship_tag": "ABX9TyOkTu4xWIdL0fcHtYltJgCU",
      "include_colab_link": true
    },
    "kernelspec": {
      "name": "python3",
      "display_name": "Python 3"
    },
    "language_info": {
      "name": "python"
    },
    "accelerator": "GPU"
  },
  "cells": [
    {
      "cell_type": "markdown",
      "metadata": {
        "id": "view-in-github",
        "colab_type": "text"
      },
      "source": [
        "<a href=\"https://colab.research.google.com/github/ZikrullaRaxmatov/ML_DL_project/blob/main/segment_yolov8.ipynb\" target=\"_parent\"><img src=\"https://colab.research.google.com/assets/colab-badge.svg\" alt=\"Open In Colab\"/></a>"
      ]
    },
    {
      "cell_type": "code",
      "execution_count": 36,
      "metadata": {
        "id": "a01yxnL3br0i"
      },
      "outputs": [],
      "source": [
        "from ultralytics import YOLO\n",
        "from ultralytics.utils.plotting import Annotator\n",
        "import cv2\n",
        "import os"
      ]
    },
    {
      "cell_type": "code",
      "source": [
        "model = YOLO('weights/yolov8m-seg.pt')\n",
        "names = model.model.names"
      ],
      "metadata": {
        "id": "Rqwvkv8Cbv5Q"
      },
      "execution_count": 37,
      "outputs": []
    },
    {
      "cell_type": "code",
      "source": [
        "input_video_path = 'videos/night_one_way_traffic.mp4'\n",
        "output_video_path = f'out/segment_{os.path.basename(input_video_path)}'"
      ],
      "metadata": {
        "id": "JFo9AIY1bv25"
      },
      "execution_count": 46,
      "outputs": []
    },
    {
      "cell_type": "code",
      "source": [
        "cap = cv2.VideoCapture(input_video_path)\n",
        "w = int(cap.get(cv2.CAP_PROP_FRAME_WIDTH))\n",
        "h = int(cap.get(cv2.CAP_PROP_FRAME_HEIGHT))\n",
        "out = cv2.VideoWriter(output_video_path, cv2.VideoWriter_fourcc(*'mp4v'), 30, (w, h))\n",
        "\n",
        "selected_names = [\n",
        "    list(names.values()).index('car'),\n",
        "    list(names.values()).index('truck'),\n",
        "]\n",
        "\n",
        "print(selected_names)"
      ],
      "metadata": {
        "colab": {
          "base_uri": "https://localhost:8080/"
        },
        "id": "usYA2h76bv0H",
        "outputId": "6c48505d-83a1-4964-89bb-264b81521ecf"
      },
      "execution_count": 47,
      "outputs": [
        {
          "output_type": "stream",
          "name": "stdout",
          "text": [
            "[2, 7]\n"
          ]
        }
      ]
    },
    {
      "cell_type": "code",
      "source": [
        "while True:\n",
        "  ret, frame = cap.read()\n",
        "\n",
        "  if not ret:\n",
        "    print('Video yakunlandi!!!')\n",
        "    break\n",
        "\n",
        "  results = model.predict(frame)\n",
        "  clss = results[0].boxes.cls.cpu().tolist()\n",
        "  masks = results[0].masks.xy\n",
        "\n",
        "  annotator = Annotator(frame, line_width=3)\n",
        "\n",
        "  for mask, cls in zip(masks, clss):\n",
        "    if int(cls) in selected_names:\n",
        "      try:\n",
        "        annotator.seg_bbox(mask=mask, mask_color=(0, 255, 0), label=names[int(cls)])\n",
        "      except: continue\n",
        "\n",
        "  out.write(frame)\n",
        "\n",
        "cap.release()\n",
        "out.release()\n",
        "cv2.destroyAllWindows()"
      ],
      "metadata": {
        "id": "CIuys2aZbvw7"
      },
      "execution_count": null,
      "outputs": []
    }
  ]
}