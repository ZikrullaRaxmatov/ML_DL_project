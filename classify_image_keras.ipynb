{
 "cells": [
  {
   "cell_type": "code",
   "execution_count": 19,
   "metadata": {},
   "outputs": [],
   "source": [
    "# importing libraries\n",
    "from tensorflow.keras.models import load_model\n",
    "from tensorflow.keras.preprocessing import image\n",
    "from tensorflow.keras.ops import sigmoid\n",
    "from tensorflow.keras.preprocessing.image import ImageDataGenerator\n",
    "from PIL import Image, ImageDraw, ImageFont\n",
    "import numpy as np\n",
    "import cv2"
   ]
  },
  {
   "cell_type": "code",
   "execution_count": 6,
   "metadata": {},
   "outputs": [],
   "source": [
    "# loading model \n",
    "model = load_model('./best_model_dc.keras')\n",
    "model.compile(optimizer='adam', loss='binary_crossentropy', metrics=['accuracy'])"
   ]
  },
  {
   "cell_type": "code",
   "execution_count": 7,
   "metadata": {},
   "outputs": [
    {
     "name": "stdout",
     "output_type": "stream",
     "text": [
      "Found 700 images belonging to 2 classes.\n"
     ]
    }
   ],
   "source": [
    "# dimentions of the image\n",
    "img_width, img_height = 150, 150\n",
    "batch_size = 32\n",
    "\n",
    "# preparing \n",
    "test_dir = './datasets/cats-dogs/test/'\n",
    "\n",
    "test_datagen = ImageDataGenerator(\n",
    "    1. / 255\n",
    ")\n",
    "\n",
    "test_generator = test_datagen.flow_from_directory(\n",
    "    test_dir,\n",
    "    target_size = (img_width, img_height),\n",
    "    batch_size = batch_size,\n",
    "    class_mode = 'binary'\n",
    ")"
   ]
  },
  {
   "cell_type": "code",
   "execution_count": 8,
   "metadata": {},
   "outputs": [
    {
     "name": "stderr",
     "output_type": "stream",
     "text": [
      "/home/zikrulla/ML_DL_project/venv/lib/python3.12/site-packages/keras/src/legacy/preprocessing/image.py:1263: UserWarning: This ImageDataGenerator specifies `featurewise_center`, but it hasn't been fit on any training data. Fit it first by calling `.fit(numpy_data)`.\n",
      "  warnings.warn(\n",
      "/home/zikrulla/ML_DL_project/venv/lib/python3.12/site-packages/keras/src/trainers/data_adapters/py_dataset_adapter.py:122: UserWarning: Your `PyDataset` class should call `super().__init__(**kwargs)` in its constructor. `**kwargs` can include `workers`, `use_multiprocessing`, `max_queue_size`. Do not pass these arguments to `fit()`, as they will be ignored.\n",
      "  self._warn_if_super_not_called()\n"
     ]
    },
    {
     "name": "stdout",
     "output_type": "stream",
     "text": [
      "\u001b[1m22/22\u001b[0m \u001b[32m━━━━━━━━━━━━━━━━━━━━\u001b[0m\u001b[37m\u001b[0m \u001b[1m34s\u001b[0m 1s/step - accuracy: 0.8315 - loss: 37.1671\n",
      "Loss:36.4623, Accuracy:83.29%\n"
     ]
    }
   ],
   "source": [
    "\n",
    "# evaluating the model\n",
    "loss, accuracy = model.evaluate(test_generator)\n",
    "print(f\"Loss:{loss:.4f}, Accuracy:{accuracy*100:.2f}%\")\n"
   ]
  },
  {
   "cell_type": "code",
   "execution_count": 22,
   "metadata": {},
   "outputs": [
    {
     "name": "stdout",
     "output_type": "stream",
     "text": [
      "\u001b[1m1/1\u001b[0m \u001b[32m━━━━━━━━━━━━━━━━━━━━\u001b[0m\u001b[37m\u001b[0m \u001b[1m0s\u001b[0m 129ms/step\n",
      "It likes a cat!\n"
     ]
    }
   ],
   "source": [
    "# predict the image \n",
    "\n",
    "img = image.load_img('./catt.jpg', target_size=(img_width, img_height))\n",
    "x = image.img_to_array(img)\n",
    "x = np.expand_dims(x, axis=0)\n",
    "\n",
    "images = np.vstack([x])\n",
    "classes = model.predict(images)\n",
    "#score = float(sigmoid(classes[0][0]))\n",
    "#print(classes)\n",
    "\n",
    "if classes == 1:\n",
    "    print('It likes a dog!')\n",
    "else: \n",
    "    print('It likes a cat!')\n",
    "\n"
   ]
  },
  {
   "cell_type": "code",
   "execution_count": 34,
   "metadata": {},
   "outputs": [],
   "source": [
    "# drawing a bounbox on images\n",
    "# loading an image \n",
    "image = Image.open('.//datasets/cats-dogs/test/dogs/27.jpg')\n",
    "\n",
    "predictions = [\n",
    "    # Sample predictions (x_min, y_min, width, height, confidence, class_id)\n",
    "    [100, 150, 200, 250, 0.85, 1],\n",
    "    #[300, 200, 150, 100, 0.90, 0],\n",
    "]\n",
    "\n",
    "# defining classes names\n",
    "class_names = {\n",
    "    0:\"Cat\", \n",
    "    1:\"Dog\"\n",
    "}\n",
    "\n",
    "# creating drowing context\n",
    "\n",
    "draw = ImageDraw.Draw(image)\n",
    "font = ImageFont.load_default()\n",
    "\n",
    "for pred in predictions:\n",
    "    x_min, y_min, width, height, confidence, class_id = pred\n",
    "    x_max, y_max = x_min + width, y_min + height\n",
    "\n",
    "    draw.rectangle([x_min, y_min, x_max, y_max], outline='green', width=2)\n",
    "\n",
    "    # adding labels\n",
    "    label = f\"{class_names[class_id]}: {confidence:.2f}\"\n",
    "    draw.text((x_min, y_min - 10), label, fill='green', font=font)\n",
    "\n",
    "# save or show the image\n",
    "image.save('predicted_image.jpg')"
   ]
  },
  {
   "cell_type": "code",
   "execution_count": null,
   "metadata": {},
   "outputs": [],
   "source": [
    "#*************************************************************chatgpt"
   ]
  },
  {
   "cell_type": "code",
   "execution_count": 23,
   "metadata": {},
   "outputs": [],
   "source": [
    "\n",
    "def preprocess_image(image_path, target_size=(224, 224)):\n",
    "    image = cv2.imread(image_path)\n",
    "    image = cv2.resize(image, target_size)\n",
    "    image = image / 255.0  # Normalize pixel values between 0 and 1\n",
    "    return image\n",
    "\n",
    "def preprocess_bboxes(bboxes, original_size, target_size=(224, 224)):\n",
    "    # Convert bounding boxes to the target size (scale bounding box)\n",
    "    width_scale = target_size[0] / original_size[0]\n",
    "    height_scale = target_size[1] / original_size[1]\n",
    "    bboxes = np.array(bboxes) * [width_scale, height_scale, width_scale, height_scale]\n",
    "    return bboxes\n"
   ]
  },
  {
   "cell_type": "code",
   "execution_count": 24,
   "metadata": {},
   "outputs": [],
   "source": [
    "from keras.models import Sequential\n",
    "from keras.layers import Conv2D, MaxPooling2D, Flatten, Dense, Input, Dropout\n",
    "\n",
    "def build_detection_model(input_shape=(224, 224, 3)):\n",
    "    model = Sequential()\n",
    "\n",
    "    # Convolutional layers\n",
    "    model.add(Conv2D(32, (3, 3), activation='relu', input_shape=input_shape))\n",
    "    model.add(MaxPooling2D(pool_size=(2, 2)))\n",
    "\n",
    "    model.add(Conv2D(64, (3, 3), activation='relu'))\n",
    "    model.add(MaxPooling2D(pool_size=(2, 2)))\n",
    "\n",
    "    model.add(Conv2D(128, (3, 3), activation='relu'))\n",
    "    model.add(MaxPooling2D(pool_size=(2, 2)))\n",
    "\n",
    "    model.add(Flatten())\n",
    "    model.add(Dense(128, activation='relu'))\n",
    "    model.add(Dropout(0.5))\n",
    "\n",
    "    # Output 4 values (x, y, width, height) representing the bounding box\n",
    "    model.add(Dense(4))\n",
    "\n",
    "    model.compile(optimizer='adam', loss='mean_squared_error', metrics=['accuracy'])\n",
    "    return model\n"
   ]
  },
  {
   "cell_type": "code",
   "execution_count": 26,
   "metadata": {},
   "outputs": [
    {
     "ename": "NameError",
     "evalue": "name 'bboxes' is not defined",
     "output_type": "error",
     "traceback": [
      "\u001b[0;31m---------------------------------------------------------------------------\u001b[0m",
      "\u001b[0;31mNameError\u001b[0m                                 Traceback (most recent call last)",
      "Cell \u001b[0;32mIn[26], line 4\u001b[0m\n\u001b[1;32m      1\u001b[0m \u001b[38;5;66;03m# Assume you have `images` as your input images and `bboxes` as their corresponding bounding boxes\u001b[39;00m\n\u001b[1;32m      2\u001b[0m datagen \u001b[38;5;241m=\u001b[39m ImageDataGenerator(rescale\u001b[38;5;241m=\u001b[39m\u001b[38;5;241m1.0\u001b[39m \u001b[38;5;241m/\u001b[39m \u001b[38;5;241m255\u001b[39m, validation_split\u001b[38;5;241m=\u001b[39m\u001b[38;5;241m0.2\u001b[39m)\n\u001b[0;32m----> 4\u001b[0m train_gen \u001b[38;5;241m=\u001b[39m datagen\u001b[38;5;241m.\u001b[39mflow(images, \u001b[43mbboxes\u001b[49m, batch_size\u001b[38;5;241m=\u001b[39m\u001b[38;5;241m32\u001b[39m, subset\u001b[38;5;241m=\u001b[39m\u001b[38;5;124m'\u001b[39m\u001b[38;5;124mtraining\u001b[39m\u001b[38;5;124m'\u001b[39m)\n\u001b[1;32m      5\u001b[0m val_gen \u001b[38;5;241m=\u001b[39m datagen\u001b[38;5;241m.\u001b[39mflow(images, bboxes, batch_size\u001b[38;5;241m=\u001b[39m\u001b[38;5;241m32\u001b[39m, subset\u001b[38;5;241m=\u001b[39m\u001b[38;5;124m'\u001b[39m\u001b[38;5;124mvalidation\u001b[39m\u001b[38;5;124m'\u001b[39m)\n\u001b[1;32m      7\u001b[0m model \u001b[38;5;241m=\u001b[39m build_detection_model()\n",
      "\u001b[0;31mNameError\u001b[0m: name 'bboxes' is not defined"
     ]
    }
   ],
   "source": [
    "\n",
    "# Assume you have `images` as your input images and `bboxes` as their corresponding bounding boxes\n",
    "datagen = ImageDataGenerator(rescale=1.0 / 255, validation_split=0.2)\n",
    "\n",
    "train_gen = datagen.flow(images, bboxes, batch_size=32, subset='training')\n",
    "val_gen = datagen.flow(images, bboxes, batch_size=32, subset='validation')\n",
    "\n",
    "model = build_detection_model()\n",
    "\n",
    "# Train the model\n",
    "model.fit(train_gen, validation_data=val_gen, epochs=10)\n"
   ]
  },
  {
   "cell_type": "code",
   "execution_count": null,
   "metadata": {},
   "outputs": [],
   "source": [
    "def predict_bounding_box(image_path, model):\n",
    "    image = preprocess_image(image_path)\n",
    "    image = np.expand_dims(image, axis=0)  # Add batch dimension\n",
    "\n",
    "    pred_bbox = model.predict(image)[0]  # Model outputs bounding box coordinates\n",
    "    return pred_bbox\n",
    "\n",
    "image_path = 'test_image.jpg'\n",
    "predicted_bbox = predict_bounding_box(image_path, model)\n",
    "print(\"Predicted Bounding Box: \", predicted_bbox)\n"
   ]
  },
  {
   "cell_type": "code",
   "execution_count": null,
   "metadata": {},
   "outputs": [],
   "source": [
    "def draw_bounding_box(image_path, bbox):\n",
    "    image = cv2.imread(image_path)\n",
    "    x, y, w, h = bbox\n",
    "\n",
    "    start_point = (int(x), int(y))\n",
    "    end_point = (int(x + w), int(y + h))\n",
    "\n",
    "    color = (255, 0, 0)  # Blue color for the bounding box\n",
    "    thickness = 2\n",
    "\n",
    "    image = cv2.rectangle(image, start_point, end_point, color, thickness)\n",
    "    cv2.imshow('Detected Image', image)\n",
    "    cv2.waitKey(0)\n",
    "\n",
    "image_path = 'test_image.jpg'\n",
    "draw_bounding_box(image_path, predicted_bbox)\n"
   ]
  },
  {
   "cell_type": "code",
   "execution_count": null,
   "metadata": {},
   "outputs": [],
   "source": [
    "val_loss, val_acc = model.evaluate(val_gen)\n",
    "print(f\"Validation Loss: {val_loss}, Validation Accuracy: {val_acc}\")\n"
   ]
  },
  {
   "cell_type": "code",
   "execution_count": null,
   "metadata": {},
   "outputs": [],
   "source": []
  },
  {
   "cell_type": "code",
   "execution_count": null,
   "metadata": {},
   "outputs": [],
   "source": [
    "#*************************************************************chatgpt"
   ]
  }
 ],
 "metadata": {
  "kernelspec": {
   "display_name": ".venv",
   "language": "python",
   "name": "python3"
  },
  "language_info": {
   "codemirror_mode": {
    "name": "ipython",
    "version": 3
   },
   "file_extension": ".py",
   "mimetype": "text/x-python",
   "name": "python",
   "nbconvert_exporter": "python",
   "pygments_lexer": "ipython3",
   "version": "3.12.3"
  }
 },
 "nbformat": 4,
 "nbformat_minor": 2
}
