{
 "cells": [
  {
   "cell_type": "code",
   "execution_count": 2,
   "metadata": {},
   "outputs": [],
   "source": [
    "# importing libraries\n",
    "from tensorflow.keras.models import load_model\n",
    "from tensorflow.keras.preprocessing import image\n",
    "from tensorflow.keras.ops import sigmoid\n",
    "from tensorflow.keras.preprocessing.image import ImageDataGenerator\n",
    "from PIL import Image, ImageDraw, ImageFont\n",
    "import numpy as np"
   ]
  },
  {
   "cell_type": "code",
   "execution_count": 6,
   "metadata": {},
   "outputs": [],
   "source": [
    "# loading model \n",
    "model = load_model('./best_model_dc.keras')\n",
    "model.compile(optimizer='adam', loss='binary_crossentropy', metrics=['accuracy'])"
   ]
  },
  {
   "cell_type": "code",
   "execution_count": 7,
   "metadata": {},
   "outputs": [
    {
     "name": "stdout",
     "output_type": "stream",
     "text": [
      "Found 700 images belonging to 2 classes.\n"
     ]
    }
   ],
   "source": [
    "# dimentions of the image\n",
    "img_width, img_height = 150, 150\n",
    "batch_size = 32\n",
    "\n",
    "# preparing \n",
    "test_dir = './datasets/cats-dogs/test/'\n",
    "\n",
    "test_datagen = ImageDataGenerator(\n",
    "    1. / 255\n",
    ")\n",
    "\n",
    "test_generator = test_datagen.flow_from_directory(\n",
    "    test_dir,\n",
    "    target_size = (img_width, img_height),\n",
    "    batch_size = batch_size,\n",
    "    class_mode = 'binary'\n",
    ")"
   ]
  },
  {
   "cell_type": "code",
   "execution_count": 8,
   "metadata": {},
   "outputs": [
    {
     "name": "stderr",
     "output_type": "stream",
     "text": [
      "/home/zikrulla/ML_DL_project/venv/lib/python3.12/site-packages/keras/src/legacy/preprocessing/image.py:1263: UserWarning: This ImageDataGenerator specifies `featurewise_center`, but it hasn't been fit on any training data. Fit it first by calling `.fit(numpy_data)`.\n",
      "  warnings.warn(\n",
      "/home/zikrulla/ML_DL_project/venv/lib/python3.12/site-packages/keras/src/trainers/data_adapters/py_dataset_adapter.py:122: UserWarning: Your `PyDataset` class should call `super().__init__(**kwargs)` in its constructor. `**kwargs` can include `workers`, `use_multiprocessing`, `max_queue_size`. Do not pass these arguments to `fit()`, as they will be ignored.\n",
      "  self._warn_if_super_not_called()\n"
     ]
    },
    {
     "name": "stdout",
     "output_type": "stream",
     "text": [
      "\u001b[1m22/22\u001b[0m \u001b[32m━━━━━━━━━━━━━━━━━━━━\u001b[0m\u001b[37m\u001b[0m \u001b[1m34s\u001b[0m 1s/step - accuracy: 0.8315 - loss: 37.1671\n",
      "Loss:36.4623, Accuracy:83.29%\n"
     ]
    }
   ],
   "source": [
    "\n",
    "# evaluating the model\n",
    "loss, accuracy = model.evaluate(test_generator)\n",
    "print(f\"Loss:{loss:.4f}, Accuracy:{accuracy*100:.2f}%\")\n"
   ]
  },
  {
   "cell_type": "code",
   "execution_count": 12,
   "metadata": {},
   "outputs": [
    {
     "name": "stdout",
     "output_type": "stream",
     "text": [
      "\u001b[1m1/1\u001b[0m \u001b[32m━━━━━━━━━━━━━━━━━━━━\u001b[0m\u001b[37m\u001b[0m \u001b[1m0s\u001b[0m 110ms/step\n",
      "[[1.]]\n",
      "It likes a dog!\n"
     ]
    }
   ],
   "source": [
    "# predict the image \n",
    "img = image.load_img('./dogg.jpg', target_size=(img_width, img_height))\n",
    "x = image.img_to_array(img)\n",
    "x = np.expand_dims(x, axis=0)\n",
    "\n",
    "images = np.vstack([x])\n",
    "classes = model.predict(images)\n",
    "#score = float(sigmoid(classes[0][0]))\n",
    "#print(classes)\n",
    "\n",
    "if classes == 1:\n",
    "    print('It likes a dog!')\n",
    "else: \n",
    "    print('It likes a cat!')\n",
    "\n"
   ]
  },
  {
   "cell_type": "code",
   "execution_count": 34,
   "metadata": {},
   "outputs": [],
   "source": [
    "# drawing a bounbox on images\n",
    "# loading an image \n",
    "image = Image.open('.//datasets/cats-dogs/test/dogs/27.jpg')\n",
    "\n",
    "predictions = [\n",
    "    # Sample predictions (x_min, y_min, width, height, confidence, class_id)\n",
    "    [100, 150, 200, 250, 0.85, 1],\n",
    "    #[300, 200, 150, 100, 0.90, 0],\n",
    "]\n",
    "\n",
    "# defining classes names\n",
    "class_names = {\n",
    "    0:\"Cat\", \n",
    "    1:\"Dog\"\n",
    "}\n",
    "\n",
    "# creating drowing context\n",
    "\n",
    "draw = ImageDraw.Draw(image)\n",
    "font = ImageFont.load_default()\n",
    "\n",
    "for pred in predictions:\n",
    "    x_min, y_min, width, height, confidence, class_id = pred\n",
    "    x_max, y_max = x_min + width, y_min + height\n",
    "\n",
    "    draw.rectangle([x_min, y_min, x_max, y_max], outline='green', width=2)\n",
    "\n",
    "    # adding labels\n",
    "    label = f\"{class_names[class_id]}: {confidence:.2f}\"\n",
    "    draw.text((x_min, y_min - 10), label, fill='green', font=font)\n",
    "\n",
    "# save or show the image\n",
    "image.save('predicted_image.jpg')"
   ]
  },
  {
   "cell_type": "code",
   "execution_count": null,
   "metadata": {},
   "outputs": [],
   "source": []
  },
  {
   "cell_type": "code",
   "execution_count": null,
   "metadata": {},
   "outputs": [],
   "source": []
  }
 ],
 "metadata": {
  "kernelspec": {
   "display_name": ".venv",
   "language": "python",
   "name": "python3"
  },
  "language_info": {
   "codemirror_mode": {
    "name": "ipython",
    "version": 3
   },
   "file_extension": ".py",
   "mimetype": "text/x-python",
   "name": "python",
   "nbconvert_exporter": "python",
   "pygments_lexer": "ipython3",
   "version": "3.12.3"
  }
 },
 "nbformat": 4,
 "nbformat_minor": 2
}
